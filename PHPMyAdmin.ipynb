{
 "cells": [
  {
   "cell_type": "code",
   "execution_count": null,
   "metadata": {},
   "outputs": [],
   "source": [
    "#Q1: Some of the facilities charge a fee to members, but some do not.\n",
    "#Write a SQL query to produce a list of the names of the facilities that do. */\n",
    "\n",
    "SELECT *\n",
    "FROM Facilities\n",
    "WHERE membercost > 0\n",
    "LIMIT 0 , 30; "
   ]
  },
  {
   "cell_type": "code",
   "execution_count": null,
   "metadata": {},
   "outputs": [],
   "source": [
    "#Q2: How many facilities do not charge a fee to members? */\n",
    "\n",
    "SELECT *\n",
    "FROM Facilities\n",
    "WHERE membercost =0\n",
    "LIMIT 0 , 30;"
   ]
  },
  {
   "cell_type": "code",
   "execution_count": null,
   "metadata": {},
   "outputs": [],
   "source": [
    "#Q3: Write an SQL query to show a list of facilities that charge a fee to members, where the fee is less than 20% of the facility's monthly maintenance cost. Return the facid, facility name, member cost, and monthly maintenance of the facilities in question. */\n",
    "\n",
    "SELECT facid, name, membercost, monthlymaintenance\n",
    "FROM `Facilities`\n",
    "WHERE membercost >0\n",
    "AND membercost < ( .2 * monthlymaintenance )\n",
    "LIMIT 0 , 30;"
   ]
  },
  {
   "cell_type": "code",
   "execution_count": null,
   "metadata": {},
   "outputs": [],
   "source": [
    "#Q4: Write an SQL query to retrieve the details of facilities with ID 1 and 5. Try writing the query without using the OR operator. */\n",
    "\n",
    "SELECT *\n",
    "FROM `Facilities`\n",
    "WHERE facid\n",
    "IN ( 1, 5 )\n",
    "LIMIT 0 , 30;"
   ]
  },
  {
   "cell_type": "code",
   "execution_count": null,
   "metadata": {},
   "outputs": [],
   "source": [
    "#Q5: Produce a list of facilities, with each labelled as 'cheap' or 'expensive', depending on if their monthly maintenance cost is more than $100. Return the name and monthly maintenance of the facilities\n",
    "#in question. */\n",
    "\n",
    "SELECT name, monthlymaintenance,\n",
    "CASE \n",
    "\tWHEN monthlymaintenance > 100 THEN \"expensive\"\n",
    "\tELSE \"cheap\" \n",
    "END AS Price\n",
    "FROM `Facilities`;"
   ]
  },
  {
   "cell_type": "code",
   "execution_count": null,
   "metadata": {},
   "outputs": [],
   "source": [
    "#Q6: You'd like to get the first and last name of the last member(s) who signed up. Try not to use the LIMIT clause for your solution. */\n",
    "\n",
    "SELECT surname, firstname\n",
    "FROM `Members`\n",
    "ORDER BY joindate DESC\n",
    "LIMIT 3;"
   ]
  },
  {
   "cell_type": "code",
   "execution_count": null,
   "metadata": {},
   "outputs": [],
   "source": [
    "#Q7: Produce a list of all members who have used a tennis court. \n",
    "#Include in your output the name of the court, and the name of the memberformatted as a single column. \n",
    "#Ensure no duplicate data, and order by the member name. */\n",
    "#join tables with facilities\n",
    "#Where ...\n",
    "#then join table with members\n",
    "\n",
    "SELECT firstname, surname, (SELECT name, facid FROM Facilities) AS name\n",
    "FROM Members AS m \n",
    "    INNER JOIN Bookings AS b\n",
    "        ON m.memid = b.memid\n",
    "WHERE facid IN (0,1)"
   ]
  },
  {
   "cell_type": "code",
   "execution_count": null,
   "metadata": {},
   "outputs": [],
   "source": [
    "# Q8: Produce a list of bookings on the day of 2012-09-14 which will cost the member (or guest) more than $30. \n",
    "#Remember that guests have different costs to members (the listed costs are per half-hour 'slot'), and the guest user's ID is always 0. \n",
    "#Include in your output the name of the facility, the name of the member formatted as a single column, and the cost. Order by descending cost, and do not use any subqueries.\n",
    "#Where guestcost > 30 \n",
    "#timestamp has date and time; extract the date (larger than less than)\n",
    "#multiply slot(.5) by cost \n",
    "\n",
    "Select memid, f.name, CONVERT(\"2012-09-14\", DATE)\n",
    "FROM Bookings \n",
    "FULL JOIN Facilities AS f\n",
    "WHERE f.guestcost > 30\n",
    "ORDER BY f.guestcost DESC\n"
   ]
  },
  {
   "cell_type": "code",
   "execution_count": null,
   "metadata": {},
   "outputs": [],
   "source": [
    "# Q9: This time, produce the same result as in Q8, but using a subquery\n"
   ]
  }
 ],
 "metadata": {
  "kernelspec": {
   "display_name": "Python 3",
   "language": "python",
   "name": "python3"
  },
  "language_info": {
   "codemirror_mode": {
    "name": "ipython",
    "version": 3
   },
   "file_extension": ".py",
   "mimetype": "text/x-python",
   "name": "python",
   "nbconvert_exporter": "python",
   "pygments_lexer": "ipython3",
   "version": "3.8.5"
  }
 },
 "nbformat": 4,
 "nbformat_minor": 4
}
